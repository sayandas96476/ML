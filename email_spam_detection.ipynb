{
  "metadata": {
    "kernelspec": {
      "language": "python",
      "display_name": "Python 3",
      "name": "python3"
    },
    "language_info": {
      "name": "python",
      "version": "3.10.14",
      "mimetype": "text/x-python",
      "codemirror_mode": {
        "name": "ipython",
        "version": 3
      },
      "pygments_lexer": "ipython3",
      "nbconvert_exporter": "python",
      "file_extension": ".py"
    },
    "kaggle": {
      "accelerator": "none",
      "dataSources": [
        {
          "sourceId": 8825534,
          "sourceType": "datasetVersion",
          "datasetId": 5309790
        }
      ],
      "dockerImageVersionId": 30804,
      "isInternetEnabled": true,
      "language": "python",
      "sourceType": "notebook",
      "isGpuEnabled": false
    },
    "colab": {
      "name": "email_spam_detection",
      "provenance": [],
      "include_colab_link": true
    }
  },
  "nbformat_minor": 0,
  "nbformat": 4,
  "cells": [
    {
      "cell_type": "markdown",
      "metadata": {
        "id": "view-in-github",
        "colab_type": "text"
      },
      "source": [
        "<a href=\"https://colab.research.google.com/github/sayandas96476/ML/blob/main/email_spam_detection.ipynb\" target=\"_parent\"><img src=\"https://colab.research.google.com/assets/colab-badge.svg\" alt=\"Open In Colab\"/></a>"
      ]
    },
    {
      "source": [
        "# IMPORTANT: RUN THIS CELL IN ORDER TO IMPORT YOUR KAGGLE DATA SOURCES,\n",
        "# THEN FEEL FREE TO DELETE THIS CELL.\n",
        "# NOTE: THIS NOTEBOOK ENVIRONMENT DIFFERS FROM KAGGLE'S PYTHON\n",
        "# ENVIRONMENT SO THERE MAY BE MISSING LIBRARIES USED BY YOUR\n",
        "# NOTEBOOK.\n",
        "import kagglehub\n",
        "saksham177_spam_mail_detection_path = kagglehub.dataset_download('saksham177/spam-mail-detection')\n",
        "\n",
        "print('Data source import complete.')\n"
      ],
      "metadata": {
        "id": "5Nl3rMmEZPNW"
      },
      "cell_type": "code",
      "outputs": [],
      "execution_count": null
    },
    {
      "cell_type": "code",
      "source": [
        "# This Python 3 environment comes with many helpful analytics libraries installed\n",
        "# It is defined by the kaggle/python Docker image: https://github.com/kaggle/docker-python\n",
        "# For example, here's several helpful packages to load\n",
        "\n",
        "import numpy as np # linear algebra\n",
        "import pandas as pd # data processing, CSV file I/O (e.g. pd.read_csv)\n",
        "\n",
        "# Input data files are available in the read-only \"../input/\" directory\n",
        "# For example, running this (by clicking run or pressing Shift+Enter) will list all files under the input directory\n",
        "\n",
        "import os\n",
        "for dirname, _, filenames in os.walk('/kaggle/input'):\n",
        "    for filename in filenames:\n",
        "        print(os.path.join(dirname, filename))\n",
        "\n",
        "# You can write up to 20GB to the current directory (/kaggle/working/) that gets preserved as output when you create a version using \"Save & Run All\"\n",
        "# You can also write temporary files to /kaggle/temp/, but they won't be saved outside of the current session"
      ],
      "metadata": {
        "_uuid": "8f2839f25d086af736a60e9eeb907d3b93b6e0e5",
        "_cell_guid": "b1076dfc-b9ad-4769-8c92-a6c4dae69d19",
        "trusted": true,
        "execution": {
          "iopub.status.busy": "2024-12-09T13:18:41.245852Z",
          "iopub.execute_input": "2024-12-09T13:18:41.247087Z",
          "iopub.status.idle": "2024-12-09T13:18:41.653494Z",
          "shell.execute_reply.started": "2024-12-09T13:18:41.247007Z",
          "shell.execute_reply": "2024-12-09T13:18:41.65235Z"
        },
        "id": "QtyGKMfcZPNX"
      },
      "outputs": [],
      "execution_count": null
    },
    {
      "cell_type": "code",
      "source": [
        "!pip install -q transformers\n",
        "!pip install -q sentence-transformers\n",
        "\n"
      ],
      "metadata": {
        "trusted": true,
        "execution": {
          "iopub.status.busy": "2024-12-10T09:00:49.453792Z",
          "iopub.execute_input": "2024-12-10T09:00:49.454317Z",
          "iopub.status.idle": "2024-12-10T09:01:14.001755Z",
          "shell.execute_reply.started": "2024-12-10T09:00:49.454276Z",
          "shell.execute_reply": "2024-12-10T09:01:13.999055Z"
        },
        "id": "8hdKxCPsZPNY"
      },
      "outputs": [],
      "execution_count": null
    },
    {
      "cell_type": "code",
      "source": [
        "import numpy as np\n",
        "from sklearn.metrics.pairwise import cosine_similarity\n",
        "import os\n",
        "import re\n",
        "\n",
        "from sentence_transformers import SentenceTransformer\n",
        "\n",
        "model_name = \"intfloat/e5-large\"\n",
        "\n",
        "model = SentenceTransformer(model_name, trust_remote_code=True)\n",
        "\n"
      ],
      "metadata": {
        "trusted": true,
        "execution": {
          "iopub.status.busy": "2024-12-10T09:01:30.422672Z",
          "iopub.execute_input": "2024-12-10T09:01:30.423166Z",
          "iopub.status.idle": "2024-12-10T09:01:49.602682Z",
          "shell.execute_reply.started": "2024-12-10T09:01:30.423124Z",
          "shell.execute_reply": "2024-12-10T09:01:49.60167Z"
        },
        "id": "i62W-mbPZPNZ"
      },
      "outputs": [],
      "execution_count": null
    },
    {
      "cell_type": "code",
      "source": [
        "\n",
        "def process_text(sentences):\n",
        "    # Generate embeddings using E5 large model\n",
        "    embeddings = model.encode(sentences, show_progress_bar=True)\n",
        "    return sentences, embeddings\n"
      ],
      "metadata": {
        "trusted": true,
        "execution": {
          "iopub.status.busy": "2024-12-10T09:02:05.940878Z",
          "iopub.execute_input": "2024-12-10T09:02:05.94202Z",
          "iopub.status.idle": "2024-12-10T09:02:05.948645Z",
          "shell.execute_reply.started": "2024-12-10T09:02:05.941979Z",
          "shell.execute_reply": "2024-12-10T09:02:05.946708Z"
        },
        "id": "BGygrIThZPNZ"
      },
      "outputs": [],
      "execution_count": null
    },
    {
      "cell_type": "code",
      "source": [
        "import pandas as pd\n",
        "df = pd.read_csv('/kaggle/input/spam-mail-detection/Day17_Mail_Data.csv')"
      ],
      "metadata": {
        "trusted": true,
        "execution": {
          "iopub.status.busy": "2024-12-10T09:02:14.445466Z",
          "iopub.execute_input": "2024-12-10T09:02:14.446082Z",
          "iopub.status.idle": "2024-12-10T09:02:14.491125Z",
          "shell.execute_reply.started": "2024-12-10T09:02:14.446041Z",
          "shell.execute_reply": "2024-12-10T09:02:14.489701Z"
        },
        "id": "lqQsBoPZZPNZ"
      },
      "outputs": [],
      "execution_count": null
    },
    {
      "cell_type": "code",
      "source": [
        "df.head(5)"
      ],
      "metadata": {
        "trusted": true,
        "execution": {
          "iopub.status.busy": "2024-12-10T09:02:16.154105Z",
          "iopub.execute_input": "2024-12-10T09:02:16.154749Z",
          "iopub.status.idle": "2024-12-10T09:02:16.182363Z",
          "shell.execute_reply.started": "2024-12-10T09:02:16.154701Z",
          "shell.execute_reply": "2024-12-10T09:02:16.180653Z"
        },
        "id": "Jw4ejtk5ZPNa"
      },
      "outputs": [],
      "execution_count": null
    },
    {
      "cell_type": "code",
      "source": [],
      "metadata": {
        "trusted": true,
        "id": "wrqmYP97ZPNa"
      },
      "outputs": [],
      "execution_count": null
    },
    {
      "cell_type": "code",
      "source": [
        "df_spam = df[df['Category']=='spam']\n",
        "df_spam.shape\n",
        "df_ham = df[df['Category']=='ham']\n",
        "df_ham.shape\n",
        "df_ham_downsampled = df_ham.sample(df_spam.shape[0])\n",
        "df_ham_downsampled.shape\n",
        "df_balanced = pd.concat([df_ham_downsampled, df_spam])\n",
        "df_balanced.shape\n",
        "df_balanced['spam']=df_balanced['Category'].apply(lambda x: 1 if x=='spam' else 0)\n",
        "df_balanced.sample(5)\n",
        "msg = df_balanced['Message']\n",
        "msg = msg.tolist()\n"
      ],
      "metadata": {
        "trusted": true,
        "execution": {
          "iopub.status.busy": "2024-12-10T09:02:20.630795Z",
          "iopub.execute_input": "2024-12-10T09:02:20.63127Z",
          "iopub.status.idle": "2024-12-10T09:02:20.65733Z",
          "shell.execute_reply.started": "2024-12-10T09:02:20.631234Z",
          "shell.execute_reply": "2024-12-10T09:02:20.655801Z"
        },
        "id": "8CweDfDIZPNa"
      },
      "outputs": [],
      "execution_count": null
    },
    {
      "cell_type": "code",
      "source": [
        "import numpy as np\n",
        "import tensorflow as tf\n",
        "from tensorflow import keras\n",
        "from tensorflow.keras.callbacks import EarlyStopping\n",
        "from tensorflow.keras.optimizers import Adam\n"
      ],
      "metadata": {
        "trusted": true,
        "execution": {
          "iopub.status.busy": "2024-12-10T09:02:22.647403Z",
          "iopub.execute_input": "2024-12-10T09:02:22.647844Z",
          "iopub.status.idle": "2024-12-10T09:02:22.654606Z",
          "shell.execute_reply.started": "2024-12-10T09:02:22.647795Z",
          "shell.execute_reply": "2024-12-10T09:02:22.652962Z"
        },
        "id": "DihVvZa1ZPNa"
      },
      "outputs": [],
      "execution_count": null
    },
    {
      "cell_type": "code",
      "source": [
        "sentence, embeddings = process_text(msg)"
      ],
      "metadata": {
        "trusted": true,
        "execution": {
          "iopub.status.busy": "2024-12-10T09:02:27.042099Z",
          "iopub.execute_input": "2024-12-10T09:02:27.042461Z",
          "iopub.status.idle": "2024-12-10T09:08:59.843048Z",
          "shell.execute_reply.started": "2024-12-10T09:02:27.042432Z",
          "shell.execute_reply": "2024-12-10T09:08:59.841711Z"
        },
        "id": "iuetyHHpZPNb"
      },
      "outputs": [],
      "execution_count": null
    },
    {
      "cell_type": "code",
      "source": [
        "embeddings = embeddings.tolist()\n",
        "df_balanced['Message'] = embeddings"
      ],
      "metadata": {
        "trusted": true,
        "execution": {
          "iopub.status.busy": "2024-12-10T09:10:25.558419Z",
          "iopub.execute_input": "2024-12-10T09:10:25.558874Z",
          "iopub.status.idle": "2024-12-10T09:10:25.661161Z",
          "shell.execute_reply.started": "2024-12-10T09:10:25.558804Z",
          "shell.execute_reply": "2024-12-10T09:10:25.659834Z"
        },
        "id": "IA0QRGT7ZPNb"
      },
      "outputs": [],
      "execution_count": null
    },
    {
      "cell_type": "code",
      "source": [
        "!pip install tensorflow --upgrade"
      ],
      "metadata": {
        "trusted": true,
        "execution": {
          "iopub.status.busy": "2024-12-09T13:32:52.944009Z",
          "iopub.execute_input": "2024-12-09T13:32:52.944526Z",
          "iopub.status.idle": "2024-12-09T13:34:26.092838Z",
          "shell.execute_reply.started": "2024-12-09T13:32:52.944477Z",
          "shell.execute_reply": "2024-12-09T13:34:26.090741Z"
        },
        "id": "nAXraUgiZPNb"
      },
      "outputs": [],
      "execution_count": null
    },
    {
      "cell_type": "code",
      "source": [
        "pip show transformers"
      ],
      "metadata": {
        "trusted": true,
        "execution": {
          "iopub.status.busy": "2024-12-09T13:35:24.365835Z",
          "iopub.execute_input": "2024-12-09T13:35:24.366688Z",
          "iopub.status.idle": "2024-12-09T13:35:34.351723Z",
          "shell.execute_reply.started": "2024-12-09T13:35:24.366645Z",
          "shell.execute_reply": "2024-12-09T13:35:34.350337Z"
        },
        "id": "UXWKiriJZPNb"
      },
      "outputs": [],
      "execution_count": null
    },
    {
      "cell_type": "code",
      "source": [
        "!pip install -q scikit-learn"
      ],
      "metadata": {
        "trusted": true,
        "execution": {
          "iopub.status.busy": "2024-12-09T13:34:46.584276Z",
          "iopub.execute_input": "2024-12-09T13:34:46.584756Z",
          "iopub.status.idle": "2024-12-09T13:34:57.127616Z",
          "shell.execute_reply.started": "2024-12-09T13:34:46.584715Z",
          "shell.execute_reply": "2024-12-09T13:34:57.125868Z"
        },
        "id": "GomPKr70ZPNb"
      },
      "outputs": [],
      "execution_count": null
    },
    {
      "cell_type": "code",
      "source": [
        "\n",
        "from sklearn.model_selection import train_test_split\n",
        "\n",
        "X_train, X_test, y_train, y_test = train_test_split(df_balanced['Message'],df_balanced['spam'], stratify=df_balanced['spam'])"
      ],
      "metadata": {
        "trusted": true,
        "execution": {
          "iopub.status.busy": "2024-12-10T09:39:17.590257Z",
          "iopub.execute_input": "2024-12-10T09:39:17.590627Z",
          "iopub.status.idle": "2024-12-10T09:39:17.601907Z",
          "shell.execute_reply.started": "2024-12-10T09:39:17.590598Z",
          "shell.execute_reply": "2024-12-10T09:39:17.600286Z"
        },
        "id": "tXVGkTDaZPNc"
      },
      "outputs": [],
      "execution_count": null
    },
    {
      "cell_type": "code",
      "source": [
        "import numpy as np\n",
        "import tensorflow as tf\n",
        "from tensorflow import keras\n",
        "from tensorflow.keras.callbacks import EarlyStopping\n",
        "from tensorflow.keras.optimizers import Adam\n",
        "\n",
        "# Configure learning rate\n",
        "initial_learning_rate = 0.001\n",
        "lr_schedule = tf.keras.optimizers.schedules.ExponentialDecay(\n",
        "    initial_learning_rate,\n",
        "    decay_steps=100,\n",
        "    decay_rate=0.9,\n",
        "    staircase=True\n",
        ")\n",
        "\n",
        "# Create the model\n",
        "inputs = tf.keras.Input(shape=(1024,))\n",
        "#l = keras.layers.Dense(1, activation='sigmoid', name=\"output\")(inputs)\n",
        "l = tf.keras.layers.Dropout(0.1, name=\"dropout\")(inputs)\n",
        "l = keras.layers.Dense(1, activation='sigmoid', name=\"output\")(l)\n",
        "\n",
        "model = keras.Model(inputs=inputs, outputs=l)\n",
        "\n",
        "# Compile the model with Adam optimizer and learning rate schedule\n",
        "model.compile(\n",
        "    optimizer=Adam(learning_rate=lr_schedule),\n",
        "    loss='binary_crossentropy',\n",
        "    metrics=['accuracy']\n",
        ")\n",
        "# Configure Early Stopping\n",
        "early_stopping = EarlyStopping(\n",
        "    monitor='val_loss',  # Monitor validation loss\n",
        "    patience=10,         # Number of epochs with no improvement after which training will be stopped\n",
        "    restore_best_weights=True,  # Restore model weights from the epoch with the best value of the monitored quantity\n",
        "    min_delta=0.001      # Minimum change to qualify as an improvement\n",
        ")\n",
        "\n",
        "model.summary()\n",
        "\n"
      ],
      "metadata": {
        "trusted": true,
        "execution": {
          "iopub.status.busy": "2024-12-10T09:39:21.732831Z",
          "iopub.execute_input": "2024-12-10T09:39:21.733254Z",
          "iopub.status.idle": "2024-12-10T09:39:21.789054Z",
          "shell.execute_reply.started": "2024-12-10T09:39:21.73322Z",
          "shell.execute_reply": "2024-12-10T09:39:21.786836Z"
        },
        "id": "QJ6SntOaZPNc"
      },
      "outputs": [],
      "execution_count": null
    },
    {
      "cell_type": "code",
      "source": [
        "import numpy as np\n",
        "import tensorflow as tf\n",
        "from tensorflow import keras\n",
        "# Convert the list of NumPy arrays to a single NumPy array\n",
        "X_train_array = np.array(list(X_train))\n",
        "X_test_array = np.array(list(X_test))\n",
        "y_train_array = np.array(y_train)\n",
        "y_test_array = np.array(y_test)\n",
        "\n",
        "try:\n",
        "    # Fit the model with Early Stopping and specified batch size\n",
        "    history = model.fit(\n",
        "        X_train_array,\n",
        "        y_train_array,\n",
        "        epochs=150,\n",
        "        batch_size=32,  # Specify batch size\n",
        "        validation_data=(X_test_array, y_test_array),\n",
        "        callbacks=[early_stopping]\n",
        "    )\n",
        "except Exception as E:\n",
        "    print(E)"
      ],
      "metadata": {
        "trusted": true,
        "execution": {
          "iopub.status.busy": "2024-12-10T09:39:36.693433Z",
          "iopub.execute_input": "2024-12-10T09:39:36.693986Z",
          "iopub.status.idle": "2024-12-10T09:39:57.148168Z",
          "shell.execute_reply.started": "2024-12-10T09:39:36.693943Z",
          "shell.execute_reply": "2024-12-10T09:39:57.146604Z"
        },
        "id": "43-N8wmUZPNc"
      },
      "outputs": [],
      "execution_count": null
    },
    {
      "cell_type": "code",
      "source": [
        "# Plot training history\n",
        "import matplotlib.pyplot as plt\n",
        "\n",
        "plt.figure(figsize=(12,4))\n",
        "plt.subplot(1,2,1)\n",
        "plt.plot(history.history['loss'], label='Training Loss')\n",
        "plt.plot(history.history['val_loss'], label='Validation Loss')\n",
        "plt.title('Model Loss')\n",
        "plt.xlabel('Epoch')\n",
        "plt.ylabel('Loss')\n",
        "plt.legend()\n",
        "\n",
        "plt.subplot(1,2,2)\n",
        "plt.plot(history.history['accuracy'], label='Training Accuracy')\n",
        "plt.plot(history.history['val_accuracy'], label='Validation Accuracy')\n",
        "plt.title('Model Accuracy')\n",
        "plt.xlabel('Epoch')\n",
        "plt.ylabel('Accuracy')\n",
        "plt.legend()\n",
        "\n",
        "plt.tight_layout()\n",
        "plt.show()"
      ],
      "metadata": {
        "trusted": true,
        "execution": {
          "iopub.status.busy": "2024-12-10T09:40:18.361596Z",
          "iopub.execute_input": "2024-12-10T09:40:18.362074Z",
          "iopub.status.idle": "2024-12-10T09:40:19.089601Z",
          "shell.execute_reply.started": "2024-12-10T09:40:18.362038Z",
          "shell.execute_reply": "2024-12-10T09:40:19.088163Z"
        },
        "id": "3m_fXApXZPNd"
      },
      "outputs": [],
      "execution_count": null
    },
    {
      "cell_type": "code",
      "source": [
        "import numpy as np\n",
        "import matplotlib.pyplot as plt\n",
        "import seaborn as sns\n",
        "from sklearn.metrics import confusion_matrix\n",
        "\n",
        "def plot_confusion_matrix(model, X_test, y_test):\n",
        "    \"\"\"\n",
        "    Generate and plot a confusion matrix for a binary classification model\n",
        "\n",
        "    Parameters:\n",
        "    - model: Trained Keras model\n",
        "    - X_test: Test input features\n",
        "    - y_test: True test labels\n",
        "    \"\"\"\n",
        "    # Predict probabilities\n",
        "    y_pred_proba = model.predict(X_test)\n",
        "\n",
        "    # Convert probabilities to binary predictions (0 or 1)\n",
        "    # Using 0.5 as the threshold for binary classification\n",
        "    y_pred = (y_pred_proba > 0.5).astype(int).flatten()\n",
        "\n",
        "    # Ensure y_test is flattened and has same shape as y_pred\n",
        "    y_test_flat = y_test.flatten()\n",
        "\n",
        "    # Compute confusion matrix\n",
        "    cm = confusion_matrix(y_test_flat, y_pred)\n",
        "\n",
        "    # Visualize confusion matrix\n",
        "    plt.figure(figsize=(8, 6))\n",
        "    sns.heatmap(cm, annot=True, fmt='d', cmap='Blues',\n",
        "                xticklabels=['Predicted Negative', 'Predicted Positive'],\n",
        "                yticklabels=['Actual Negative', 'Actual Positive'])\n",
        "\n",
        "    plt.title('Confusion Matrix')\n",
        "    plt.xlabel('Predicted Label')\n",
        "    plt.ylabel('True Label')\n",
        "    plt.tight_layout()\n",
        "    plt.show()\n",
        "\n",
        "    # Calculate and print additional metrics\n",
        "    tn, fp, fn, tp = cm.ravel()\n",
        "    print(\"Confusion Matrix Metrics:\")\n",
        "    print(f\"True Negatives: {tn}\")\n",
        "    print(f\"False Positives: {fp}\")\n",
        "    print(f\"False Negatives: {fn}\")\n",
        "    print(f\"True Positives: {tp}\")\n",
        "\n",
        "    # Calculate precision, recall, and F1 score\n",
        "    precision = tp / (tp + fp) if (tp + fp) > 0 else 0\n",
        "    recall = tp / (tp + fn) if (tp + fn) > 0 else 0\n",
        "    f1_score = 2 * (precision * recall) / (precision + recall) if (precision + recall) > 0 else 0\n",
        "\n",
        "    print(f\"\\nPrecision: {precision:.4f}\")\n",
        "    print(f\"Recall: {recall:.4f}\")\n",
        "    print(f\"F1 Score: {f1_score:.4f}\")\n",
        "\n",
        "# Usage example (replace with your actual data)\n",
        "plot_confusion_matrix(model2, X_test_array, y_test_array)"
      ],
      "metadata": {
        "trusted": true,
        "execution": {
          "iopub.status.busy": "2024-12-10T09:44:04.917779Z",
          "iopub.execute_input": "2024-12-10T09:44:04.918346Z",
          "iopub.status.idle": "2024-12-10T09:44:05.787602Z",
          "shell.execute_reply.started": "2024-12-10T09:44:04.918305Z",
          "shell.execute_reply": "2024-12-10T09:44:05.786449Z"
        },
        "id": "FIIuUCCUZPNd"
      },
      "outputs": [],
      "execution_count": null
    },
    {
      "cell_type": "code",
      "source": [],
      "metadata": {
        "trusted": true,
        "id": "r3PEmpfYZPNd"
      },
      "outputs": [],
      "execution_count": null
    }
  ]
}